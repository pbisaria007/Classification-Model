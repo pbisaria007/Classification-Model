{
 "cells": [
  {
   "cell_type": "markdown",
   "metadata": {},
   "source": [
    "## Importing Libraries"
   ]
  },
  {
   "cell_type": "code",
   "execution_count": 1,
   "metadata": {},
   "outputs": [],
   "source": [
    "import numpy as np\n",
    "import pandas as pd\n",
    "import matplotlib.pyplot as plt\n",
    "import seaborn as sns\n",
    "from sklearn.linear_model import LogisticRegression\n",
    "from sklearn.model_selection import train_test_split\n",
    "from sklearn.naive_bayes import GaussianNB\n",
    "from sklearn import metrics\n",
    "from sklearn.metrics import classification_report\n",
    "from sklearn.metrics import roc_curve, auc"
   ]
  },
  {
   "cell_type": "markdown",
   "metadata": {},
   "source": [
    "## Loading dataset"
   ]
  },
  {
   "cell_type": "code",
   "execution_count": 2,
   "metadata": {},
   "outputs": [],
   "source": [
    "df = pd.read_csv('diabetes.csv')"
   ]
  },
  {
   "cell_type": "code",
   "execution_count": 3,
   "metadata": {},
   "outputs": [
    {
     "data": {
      "text/html": [
       "<div>\n",
       "<style scoped>\n",
       "    .dataframe tbody tr th:only-of-type {\n",
       "        vertical-align: middle;\n",
       "    }\n",
       "\n",
       "    .dataframe tbody tr th {\n",
       "        vertical-align: top;\n",
       "    }\n",
       "\n",
       "    .dataframe thead th {\n",
       "        text-align: right;\n",
       "    }\n",
       "</style>\n",
       "<table border=\"1\" class=\"dataframe\">\n",
       "  <thead>\n",
       "    <tr style=\"text-align: right;\">\n",
       "      <th></th>\n",
       "      <th>Pregnancies</th>\n",
       "      <th>Glucose</th>\n",
       "      <th>BloodPressure</th>\n",
       "      <th>SkinThickness</th>\n",
       "      <th>Insulin</th>\n",
       "      <th>BMI</th>\n",
       "      <th>DiabetesPedigreeFunction</th>\n",
       "      <th>Age</th>\n",
       "      <th>Outcome</th>\n",
       "    </tr>\n",
       "  </thead>\n",
       "  <tbody>\n",
       "    <tr>\n",
       "      <td>0</td>\n",
       "      <td>6</td>\n",
       "      <td>148</td>\n",
       "      <td>72</td>\n",
       "      <td>35</td>\n",
       "      <td>0</td>\n",
       "      <td>33.6</td>\n",
       "      <td>0.627</td>\n",
       "      <td>50</td>\n",
       "      <td>1</td>\n",
       "    </tr>\n",
       "    <tr>\n",
       "      <td>1</td>\n",
       "      <td>1</td>\n",
       "      <td>85</td>\n",
       "      <td>66</td>\n",
       "      <td>29</td>\n",
       "      <td>0</td>\n",
       "      <td>26.6</td>\n",
       "      <td>0.351</td>\n",
       "      <td>31</td>\n",
       "      <td>0</td>\n",
       "    </tr>\n",
       "    <tr>\n",
       "      <td>2</td>\n",
       "      <td>8</td>\n",
       "      <td>183</td>\n",
       "      <td>64</td>\n",
       "      <td>0</td>\n",
       "      <td>0</td>\n",
       "      <td>23.3</td>\n",
       "      <td>0.672</td>\n",
       "      <td>32</td>\n",
       "      <td>1</td>\n",
       "    </tr>\n",
       "    <tr>\n",
       "      <td>3</td>\n",
       "      <td>1</td>\n",
       "      <td>89</td>\n",
       "      <td>66</td>\n",
       "      <td>23</td>\n",
       "      <td>94</td>\n",
       "      <td>28.1</td>\n",
       "      <td>0.167</td>\n",
       "      <td>21</td>\n",
       "      <td>0</td>\n",
       "    </tr>\n",
       "    <tr>\n",
       "      <td>4</td>\n",
       "      <td>0</td>\n",
       "      <td>137</td>\n",
       "      <td>40</td>\n",
       "      <td>35</td>\n",
       "      <td>168</td>\n",
       "      <td>43.1</td>\n",
       "      <td>2.288</td>\n",
       "      <td>33</td>\n",
       "      <td>1</td>\n",
       "    </tr>\n",
       "  </tbody>\n",
       "</table>\n",
       "</div>"
      ],
      "text/plain": [
       "   Pregnancies  Glucose  BloodPressure  SkinThickness  Insulin   BMI  \\\n",
       "0            6      148             72             35        0  33.6   \n",
       "1            1       85             66             29        0  26.6   \n",
       "2            8      183             64              0        0  23.3   \n",
       "3            1       89             66             23       94  28.1   \n",
       "4            0      137             40             35      168  43.1   \n",
       "\n",
       "   DiabetesPedigreeFunction  Age  Outcome  \n",
       "0                     0.627   50        1  \n",
       "1                     0.351   31        0  \n",
       "2                     0.672   32        1  \n",
       "3                     0.167   21        0  \n",
       "4                     2.288   33        1  "
      ]
     },
     "execution_count": 3,
     "metadata": {},
     "output_type": "execute_result"
    }
   ],
   "source": [
    "df.head()"
   ]
  },
  {
   "cell_type": "code",
   "execution_count": 4,
   "metadata": {},
   "outputs": [
    {
     "data": {
      "text/plain": [
       "(768, 9)"
      ]
     },
     "execution_count": 4,
     "metadata": {},
     "output_type": "execute_result"
    }
   ],
   "source": [
    "df.shape"
   ]
  },
  {
   "cell_type": "code",
   "execution_count": 5,
   "metadata": {},
   "outputs": [
    {
     "data": {
      "text/html": [
       "<div>\n",
       "<style scoped>\n",
       "    .dataframe tbody tr th:only-of-type {\n",
       "        vertical-align: middle;\n",
       "    }\n",
       "\n",
       "    .dataframe tbody tr th {\n",
       "        vertical-align: top;\n",
       "    }\n",
       "\n",
       "    .dataframe thead th {\n",
       "        text-align: right;\n",
       "    }\n",
       "</style>\n",
       "<table border=\"1\" class=\"dataframe\">\n",
       "  <thead>\n",
       "    <tr style=\"text-align: right;\">\n",
       "      <th></th>\n",
       "      <th>Pregnancies</th>\n",
       "      <th>Glucose</th>\n",
       "      <th>BloodPressure</th>\n",
       "      <th>SkinThickness</th>\n",
       "      <th>Insulin</th>\n",
       "      <th>BMI</th>\n",
       "      <th>DiabetesPedigreeFunction</th>\n",
       "      <th>Age</th>\n",
       "      <th>Outcome</th>\n",
       "    </tr>\n",
       "  </thead>\n",
       "  <tbody>\n",
       "    <tr>\n",
       "      <td>count</td>\n",
       "      <td>768.000000</td>\n",
       "      <td>768.000000</td>\n",
       "      <td>768.000000</td>\n",
       "      <td>768.000000</td>\n",
       "      <td>768.000000</td>\n",
       "      <td>768.000000</td>\n",
       "      <td>768.000000</td>\n",
       "      <td>768.000000</td>\n",
       "      <td>768.000000</td>\n",
       "    </tr>\n",
       "    <tr>\n",
       "      <td>mean</td>\n",
       "      <td>3.845052</td>\n",
       "      <td>120.894531</td>\n",
       "      <td>69.105469</td>\n",
       "      <td>20.536458</td>\n",
       "      <td>79.799479</td>\n",
       "      <td>31.992578</td>\n",
       "      <td>0.471876</td>\n",
       "      <td>33.240885</td>\n",
       "      <td>0.348958</td>\n",
       "    </tr>\n",
       "    <tr>\n",
       "      <td>std</td>\n",
       "      <td>3.369578</td>\n",
       "      <td>31.972618</td>\n",
       "      <td>19.355807</td>\n",
       "      <td>15.952218</td>\n",
       "      <td>115.244002</td>\n",
       "      <td>7.884160</td>\n",
       "      <td>0.331329</td>\n",
       "      <td>11.760232</td>\n",
       "      <td>0.476951</td>\n",
       "    </tr>\n",
       "    <tr>\n",
       "      <td>min</td>\n",
       "      <td>0.000000</td>\n",
       "      <td>0.000000</td>\n",
       "      <td>0.000000</td>\n",
       "      <td>0.000000</td>\n",
       "      <td>0.000000</td>\n",
       "      <td>0.000000</td>\n",
       "      <td>0.078000</td>\n",
       "      <td>21.000000</td>\n",
       "      <td>0.000000</td>\n",
       "    </tr>\n",
       "    <tr>\n",
       "      <td>25%</td>\n",
       "      <td>1.000000</td>\n",
       "      <td>99.000000</td>\n",
       "      <td>62.000000</td>\n",
       "      <td>0.000000</td>\n",
       "      <td>0.000000</td>\n",
       "      <td>27.300000</td>\n",
       "      <td>0.243750</td>\n",
       "      <td>24.000000</td>\n",
       "      <td>0.000000</td>\n",
       "    </tr>\n",
       "    <tr>\n",
       "      <td>50%</td>\n",
       "      <td>3.000000</td>\n",
       "      <td>117.000000</td>\n",
       "      <td>72.000000</td>\n",
       "      <td>23.000000</td>\n",
       "      <td>30.500000</td>\n",
       "      <td>32.000000</td>\n",
       "      <td>0.372500</td>\n",
       "      <td>29.000000</td>\n",
       "      <td>0.000000</td>\n",
       "    </tr>\n",
       "    <tr>\n",
       "      <td>75%</td>\n",
       "      <td>6.000000</td>\n",
       "      <td>140.250000</td>\n",
       "      <td>80.000000</td>\n",
       "      <td>32.000000</td>\n",
       "      <td>127.250000</td>\n",
       "      <td>36.600000</td>\n",
       "      <td>0.626250</td>\n",
       "      <td>41.000000</td>\n",
       "      <td>1.000000</td>\n",
       "    </tr>\n",
       "    <tr>\n",
       "      <td>max</td>\n",
       "      <td>17.000000</td>\n",
       "      <td>199.000000</td>\n",
       "      <td>122.000000</td>\n",
       "      <td>99.000000</td>\n",
       "      <td>846.000000</td>\n",
       "      <td>67.100000</td>\n",
       "      <td>2.420000</td>\n",
       "      <td>81.000000</td>\n",
       "      <td>1.000000</td>\n",
       "    </tr>\n",
       "  </tbody>\n",
       "</table>\n",
       "</div>"
      ],
      "text/plain": [
       "       Pregnancies     Glucose  BloodPressure  SkinThickness     Insulin  \\\n",
       "count   768.000000  768.000000     768.000000     768.000000  768.000000   \n",
       "mean      3.845052  120.894531      69.105469      20.536458   79.799479   \n",
       "std       3.369578   31.972618      19.355807      15.952218  115.244002   \n",
       "min       0.000000    0.000000       0.000000       0.000000    0.000000   \n",
       "25%       1.000000   99.000000      62.000000       0.000000    0.000000   \n",
       "50%       3.000000  117.000000      72.000000      23.000000   30.500000   \n",
       "75%       6.000000  140.250000      80.000000      32.000000  127.250000   \n",
       "max      17.000000  199.000000     122.000000      99.000000  846.000000   \n",
       "\n",
       "              BMI  DiabetesPedigreeFunction         Age     Outcome  \n",
       "count  768.000000                768.000000  768.000000  768.000000  \n",
       "mean    31.992578                  0.471876   33.240885    0.348958  \n",
       "std      7.884160                  0.331329   11.760232    0.476951  \n",
       "min      0.000000                  0.078000   21.000000    0.000000  \n",
       "25%     27.300000                  0.243750   24.000000    0.000000  \n",
       "50%     32.000000                  0.372500   29.000000    0.000000  \n",
       "75%     36.600000                  0.626250   41.000000    1.000000  \n",
       "max     67.100000                  2.420000   81.000000    1.000000  "
      ]
     },
     "execution_count": 5,
     "metadata": {},
     "output_type": "execute_result"
    }
   ],
   "source": [
    "df.describe()"
   ]
  },
  {
   "cell_type": "code",
   "execution_count": 6,
   "metadata": {},
   "outputs": [],
   "source": [
    "X = df.drop(['Outcome','Glucose','BloodPressure','SkinThickness','Insulin','BMI','DiabetesPedigreeFunction'], axis=1)\n",
    "y = df['Outcome']"
   ]
  },
  {
   "cell_type": "code",
   "execution_count": 9,
   "metadata": {},
   "outputs": [],
   "source": [
    "from sklearn.model_selection import train_test_split"
   ]
  },
  {
   "cell_type": "code",
   "execution_count": 10,
   "metadata": {},
   "outputs": [],
   "source": [
    "X_train, X_test, y_train, y_test = train_test_split(X, y, test_size=0.2, random_state=100)"
   ]
  },
  {
   "cell_type": "code",
   "execution_count": 11,
   "metadata": {},
   "outputs": [],
   "source": [
    "from sklearn.linear_model import LogisticRegression"
   ]
  },
  {
   "cell_type": "code",
   "execution_count": 12,
   "metadata": {},
   "outputs": [],
   "source": [
    "model = LogisticRegression()"
   ]
  },
  {
   "cell_type": "code",
   "execution_count": 13,
   "metadata": {},
   "outputs": [
    {
     "data": {
      "text/plain": [
       "LogisticRegression()"
      ]
     },
     "execution_count": 13,
     "metadata": {},
     "output_type": "execute_result"
    }
   ],
   "source": [
    "model.fit(X_train, y_train)"
   ]
  },
  {
   "cell_type": "code",
   "execution_count": 14,
   "metadata": {},
   "outputs": [],
   "source": [
    "from sklearn.metrics import accuracy_score, confusion_matrix, classification_report"
   ]
  },
  {
   "cell_type": "code",
   "execution_count": 15,
   "metadata": {},
   "outputs": [],
   "source": [
    "y_pred = model.predict(X_test)"
   ]
  },
  {
   "cell_type": "code",
   "execution_count": 16,
   "metadata": {},
   "outputs": [
    {
     "data": {
      "text/plain": [
       "0.6883116883116883"
      ]
     },
     "execution_count": 16,
     "metadata": {},
     "output_type": "execute_result"
    }
   ],
   "source": [
    "accuracy_score(y_pred, y_test)"
   ]
  },
  {
   "cell_type": "code",
   "execution_count": 17,
   "metadata": {},
   "outputs": [
    {
     "name": "stdout",
     "output_type": "stream",
     "text": [
      "[[89 36]\n",
      " [12 17]]\n"
     ]
    }
   ],
   "source": [
    "print(confusion_matrix(y_pred, y_test))"
   ]
  },
  {
   "cell_type": "code",
   "execution_count": 18,
   "metadata": {},
   "outputs": [
    {
     "name": "stdout",
     "output_type": "stream",
     "text": [
      "              precision    recall  f1-score   support\n",
      "\n",
      "           0       0.71      0.88      0.79       101\n",
      "           1       0.59      0.32      0.41        53\n",
      "\n",
      "    accuracy                           0.69       154\n",
      "   macro avg       0.65      0.60      0.60       154\n",
      "weighted avg       0.67      0.69      0.66       154\n",
      "\n"
     ]
    }
   ],
   "source": [
    "print(classification_report(y_test, y_pred))"
   ]
  },
  {
   "cell_type": "code",
   "execution_count": 39,
   "metadata": {},
   "outputs": [
    {
     "data": {
      "text/plain": [
       "array([0.76801207])"
      ]
     },
     "execution_count": 39,
     "metadata": {},
     "output_type": "execute_result"
    }
   ],
   "source": [
    "model.predict_proba(X_test)"
   ]
  },
  {
   "cell_type": "code",
   "execution_count": 57,
   "metadata": {},
   "outputs": [],
   "source": [
    "import random\n",
    "\n",
    "def gen_input(input_range1,input_range2,num_of_input):\n",
    "    input_array = []\n",
    "    input_array1 = []\n",
    "    input_array2 = []\n",
    "    \n",
    "    for i in range(num_of_input):\n",
    "        x = random.uniform(input_range1[0],input_range2[1])\n",
    "        y = random.uniform(input_range2[0],input_range2[1])\n",
    "        input_array.append([x,y])\n",
    "    \n",
    "\n",
    "    return input_array\n",
    "    "
   ]
  },
  {
   "cell_type": "code",
   "execution_count": 62,
   "metadata": {},
   "outputs": [],
   "source": [
    "y = gen_input([12,25],[25,50],50)"
   ]
  },
  {
   "cell_type": "code",
   "execution_count": 63,
   "metadata": {},
   "outputs": [
    {
     "data": {
      "text/plain": [
       "[[33.868271078600586, 44.688002363385294],\n",
       " [18.734850479844898, 43.72954660968336],\n",
       " [36.048855416189014, 31.25651874901474],\n",
       " [49.29016028632647, 41.246992123019396],\n",
       " [45.2269767797749, 39.11596332064143],\n",
       " [26.627045345286007, 35.46461239572811],\n",
       " [22.882800512932775, 48.97060522181543],\n",
       " [26.33982006591614, 33.64852015070925],\n",
       " [28.6335735674579, 41.88358661636891],\n",
       " [22.568095083759992, 31.084395785238225],\n",
       " [40.8401609095021, 29.670517393386476],\n",
       " [15.420829428303279, 49.3681837358578],\n",
       " [28.83387704744509, 43.37693461249685],\n",
       " [28.294143828362785, 27.17565519128098],\n",
       " [39.106238333851536, 35.821639684148415],\n",
       " [18.104925038224394, 33.24912834124892],\n",
       " [45.27952491974468, 38.049167371858346],\n",
       " [33.707790427707835, 34.2370097122908],\n",
       " [36.711300522082894, 25.103102875235432],\n",
       " [43.51435790488556, 41.324148430404435],\n",
       " [27.122383429812743, 34.34889144210432],\n",
       " [20.94037159263292, 41.08167779449542],\n",
       " [49.74999895981478, 40.96859907564202],\n",
       " [33.491096171678464, 49.79244243842386],\n",
       " [37.399801045422194, 31.91984997229943],\n",
       " [42.88758584499324, 42.69557886912362],\n",
       " [20.55659009079995, 27.152591021466428],\n",
       " [49.904995189285266, 39.64883695726045],\n",
       " [47.88304205395458, 32.490935893915236],\n",
       " [35.05145599664761, 42.237439680733026],\n",
       " [27.190838386309554, 40.158630769763874],\n",
       " [24.525493714380282, 49.64546543318022],\n",
       " [32.2775784760227, 36.19497759701992],\n",
       " [15.40300859656558, 25.107927904190845],\n",
       " [19.400730068190057, 37.68311317006153],\n",
       " [12.320005135869797, 30.486631831435833],\n",
       " [18.715321361843813, 44.00997335909638],\n",
       " [28.897827835139037, 29.99770280913512],\n",
       " [40.564868237446206, 32.0019820997948],\n",
       " [15.704831382735048, 47.62080560623153],\n",
       " [41.680304987239936, 44.03747510549975],\n",
       " [21.20572338906745, 36.240078050054656],\n",
       " [21.86027785514763, 39.20273302213398],\n",
       " [26.129172961813165, 42.032369351075786],\n",
       " [34.422080447616516, 36.05812459049487],\n",
       " [38.09366623671603, 33.154602397594466],\n",
       " [38.228288175909526, 26.157406585460848],\n",
       " [45.12938106865585, 34.55670911466346],\n",
       " [29.620923586896787, 30.923715712925762],\n",
       " [27.65841442981031, 32.94983792493118]]"
      ]
     },
     "execution_count": 63,
     "metadata": {},
     "output_type": "execute_result"
    }
   ],
   "source": [
    "y"
   ]
  },
  {
   "cell_type": "code",
   "execution_count": 81,
   "metadata": {},
   "outputs": [
    {
     "name": "stdout",
     "output_type": "stream",
     "text": [
      "[33.868271078600586, 44.688002363385294] [1] 0.8532806445612255\n",
      "[18.734850479844898, 43.72954660968336] [1] 0.6713175347251864\n",
      "[36.048855416189014, 31.25651874901474] [1] 0.8080320257536177\n",
      "[49.29016028632647, 41.246992123019396] [1] 0.9353897564416273\n",
      "[45.2269767797749, 39.11596332064143] [1] 0.9110219294666816\n",
      "[26.627045345286007, 35.46461239572811] [1] 0.7218495771024414\n",
      "[22.882800512932775, 48.97060522181543] [1] 0.7640278388995169\n",
      "[26.33982006591614, 33.64852015070925] [1] 0.7049499931051628\n",
      "[28.6335735674579, 41.88358661636891] [1] 0.787883472018226\n",
      "[22.568095083759992, 31.084395785238225] [1] 0.629237303345036\n",
      "[40.8401609095021, 29.670517393386476] [1] 0.8458691119405746\n",
      "[15.420829428303279, 49.3681837358578] [1] 0.6658167580021689\n",
      "[28.83387704744509, 43.37693461249685] [1] 0.798636413075301\n",
      "[28.294143828362785, 27.17565519128098] [1] 0.6847424761794796\n",
      "[39.106238333851536, 35.821639684148415] [1] 0.858319657148882\n",
      "[18.104925038224394, 33.24912834124892] [1] 0.5758692639995898\n",
      "[45.27952491974468, 38.049167371858346] [1] 0.9082476713840302\n",
      "[33.707790427707835, 34.2370097122908] [1] 0.7997456227177678\n",
      "[36.711300522082894, 25.103102875235432] [1] 0.7801661086647702\n",
      "[43.51435790488556, 41.324148430404435] [1] 0.9079361432327638\n",
      "[27.122383429812743, 34.34889144210432] [1] 0.7206785878527944\n",
      "[20.94037159263292, 41.08167779449542] [1] 0.6833621363176043\n",
      "[49.74999895981478, 40.96859907564202] [1] 0.9366504795671781\n",
      "[33.491096171678464, 49.79244243842386] [1] 0.8714288819916716\n",
      "[37.399801045422194, 31.91984997229943] [1] 0.8250394914945007\n",
      "[42.88758584499324, 42.69557886912362] [1] 0.908433188735997\n",
      "[20.55659009079995, 27.152591021466428] [1] 0.5638854468796908\n",
      "[49.904995189285266, 39.64883695726045] [1] 0.934496820539966\n",
      "[47.88304205395458, 32.490935893915236] [1] 0.9065739130531627\n",
      "[35.05145599664761, 42.237439680733026] [1] 0.8524751803988565\n",
      "[27.190838386309554, 40.158630769763874] [1] 0.7604928510315717\n",
      "[24.525493714380282, 49.64546543318022] [1] 0.7872484222429579\n",
      "[32.2775784760227, 36.19497759701992] [1] 0.7953336507913311\n",
      "[15.40300859656558, 25.107927904190845] [0] 0.4602257430877584\n",
      "[19.400730068190057, 37.68311317006153] [1] 0.6335505206967224\n",
      "[12.320005135869797, 30.486631831435833] [0] 0.45564755225537146\n",
      "[18.715321361843813, 44.00997335909638] [1] 0.6731881131259674\n",
      "[28.897827835139037, 29.99770280913512] [1] 0.713951124746351\n",
      "[40.564868237446206, 32.0019820997948] [1] 0.8539082845398693\n",
      "[15.704831382735048, 47.62080560623153] [1] 0.6563988656701006\n",
      "[41.680304987239936, 44.03747510549975] [1] 0.9055717341779641\n",
      "[21.20572338906745, 36.240078050054656] [1] 0.6497360107766162\n",
      "[21.86027785514763, 39.20273302213398] [1] 0.6824805834909262\n",
      "[26.129172961813165, 42.032369351075786] [1] 0.7594715023994272\n",
      "[34.422080447616516, 36.05812459049487] [1] 0.8169978181236738\n",
      "[38.09366623671603, 33.154602397594466] [1] 0.8375963717922312\n",
      "[38.228288175909526, 26.157406585460848] [1] 0.8029769695192559\n",
      "[45.12938106865585, 34.55670911466346] [1] 0.8966329804357083\n",
      "[29.620923586896787, 30.923715712925762] [1] 0.7301537270988573\n",
      "[27.65841442981031, 32.94983792493118] [1] 0.7180542835469566\n"
     ]
    }
   ],
   "source": [
    "for x in y:\n",
    "    prob = model.predict_proba([x])\n",
    "    print(x,model.predict([x]),prob[0][1])"
   ]
  },
  {
   "cell_type": "code",
   "execution_count": null,
   "metadata": {},
   "outputs": [],
   "source": []
  },
  {
   "cell_type": "code",
   "execution_count": null,
   "metadata": {},
   "outputs": [],
   "source": []
  }
 ],
 "metadata": {
  "kernelspec": {
   "display_name": "Python 3.7.4 64-bit ('base': conda)",
   "language": "python",
   "name": "python37464bitbaseconda8218160db8d44caa8d1fe439a99e8e37"
  },
  "language_info": {
   "codemirror_mode": {
    "name": "ipython",
    "version": 3
   },
   "file_extension": ".py",
   "mimetype": "text/x-python",
   "name": "python",
   "nbconvert_exporter": "python",
   "pygments_lexer": "ipython3",
   "version": "3.7.4"
  }
 },
 "nbformat": 4,
 "nbformat_minor": 2
}
